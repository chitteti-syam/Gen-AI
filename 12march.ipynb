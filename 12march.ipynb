{
  "nbformat": 4,
  "nbformat_minor": 0,
  "metadata": {
    "colab": {
      "provenance": [],
      "authorship_tag": "ABX9TyNuSpkfUwTJgUdzhSCORLbn",
      "include_colab_link": true
    },
    "kernelspec": {
      "name": "python3",
      "display_name": "Python 3"
    },
    "language_info": {
      "name": "python"
    }
  },
  "cells": [
    {
      "cell_type": "markdown",
      "metadata": {
        "id": "view-in-github",
        "colab_type": "text"
      },
      "source": [
        "<a href=\"https://colab.research.google.com/github/chitteti-syam/Gen-AI/blob/main/12march.ipynb\" target=\"_parent\"><img src=\"https://colab.research.google.com/assets/colab-badge.svg\" alt=\"Open In Colab\"/></a>"
      ]
    },
    {
      "cell_type": "code",
      "execution_count": null,
      "metadata": {
        "colab": {
          "base_uri": "https://localhost:8080/",
          "height": 383
        },
        "id": "zrOkXUqWDOkx",
        "outputId": "3dcd3344-e40d-47b3-9312-ea9579f446ea"
      },
      "outputs": [
        {
          "output_type": "error",
          "ename": "ModuleNotFoundError",
          "evalue": "No module named 'gradio'",
          "traceback": [
            "\u001b[0;31m---------------------------------------------------------------------------\u001b[0m",
            "\u001b[0;31mModuleNotFoundError\u001b[0m                       Traceback (most recent call last)",
            "\u001b[0;32m<ipython-input-1-024aaf298373>\u001b[0m in \u001b[0;36m<cell line: 0>\u001b[0;34m()\u001b[0m\n\u001b[1;32m      1\u001b[0m \u001b[0;32mimport\u001b[0m \u001b[0mnumpy\u001b[0m \u001b[0;32mas\u001b[0m \u001b[0mnp\u001b[0m\u001b[0;34m\u001b[0m\u001b[0;34m\u001b[0m\u001b[0m\n\u001b[1;32m      2\u001b[0m \u001b[0;32mimport\u001b[0m \u001b[0mpandas\u001b[0m \u001b[0;32mas\u001b[0m \u001b[0mpd\u001b[0m\u001b[0;34m\u001b[0m\u001b[0;34m\u001b[0m\u001b[0m\n\u001b[0;32m----> 3\u001b[0;31m \u001b[0;32mimport\u001b[0m \u001b[0mgradio\u001b[0m \u001b[0;32mas\u001b[0m \u001b[0mgr\u001b[0m\u001b[0;34m\u001b[0m\u001b[0;34m\u001b[0m\u001b[0m\n\u001b[0m\u001b[1;32m      4\u001b[0m \u001b[0;32mimport\u001b[0m \u001b[0mmatplotlib\u001b[0m\u001b[0;34m.\u001b[0m\u001b[0mpyplot\u001b[0m \u001b[0;32mas\u001b[0m \u001b[0mplt\u001b[0m\u001b[0;34m\u001b[0m\u001b[0;34m\u001b[0m\u001b[0m\n\u001b[1;32m      5\u001b[0m \u001b[0;32mfrom\u001b[0m \u001b[0msklearn\u001b[0m\u001b[0;34m.\u001b[0m\u001b[0mcluster\u001b[0m \u001b[0;32mimport\u001b[0m \u001b[0mKMeans\u001b[0m\u001b[0;34m\u001b[0m\u001b[0;34m\u001b[0m\u001b[0m\n",
            "\u001b[0;31mModuleNotFoundError\u001b[0m: No module named 'gradio'",
            "",
            "\u001b[0;31m---------------------------------------------------------------------------\u001b[0;32m\nNOTE: If your import is failing due to a missing package, you can\nmanually install dependencies using either !pip or !apt.\n\nTo view examples of installing some common dependencies, click the\n\"Open Examples\" button below.\n\u001b[0;31m---------------------------------------------------------------------------\u001b[0m\n"
          ],
          "errorDetails": {
            "actions": [
              {
                "action": "open_url",
                "actionText": "Open Examples",
                "url": "/notebooks/snippets/importing_libraries.ipynb"
              }
            ]
          }
        }
      ],
      "source": [
        "  import numpy as np\n",
        "import pandas as pd\n",
        "import gradio as gr\n",
        "import matplotlib.pyplot as plt\n",
        "from sklearn.cluster import KMeans\n",
        "from sklearn.preprocessing import StandardScaler\n",
        "\n",
        "# 1️⃣ Generate Synthetic Data (Income vs. Spending)\n",
        "np.random.seed(42)\n",
        "num_samples = 300\n",
        "income = np.random.randint(20000, 150000, num_samples)\n",
        "spending_score = np.random.randint(1, 100, num_samples)\n",
        "\n",
        "# Create DataFrame\n",
        "data = pd.DataFrame({\"Income\": income, \"SpendingScore\": spending_score})\n",
        "\n",
        "# 2️⃣ Apply Feature Scaling\n",
        "scaler = StandardScaler()\n",
        "scaled_data = scaler.fit_transform(data)\n",
        "\n",
        "# 3️⃣ Train K-Means Model (Use k-means++ for better cluster initialization)\n",
        "k = 5  # Increase clusters for better separation\n",
        "kmeans = KMeans(n_clusters=k, init=\"k-means++\", random_state=42)\n",
        "data[\"Cluster\"] = kmeans.fit_predict(scaled_data)\n",
        "\n",
        "# 4️⃣ Define Prediction Function\n",
        "def predict_cluster(income, spending_score):\n",
        "    input_data = np.array([[income, spending_score]])\n",
        "    input_data_scaled = scaler.transform(input_data)  # Ensure scaling is applied\n",
        "    cluster = kmeans.predict(input_data_scaled)[0]\n",
        "\n",
        "    return f\"🟢 You belong to Cluster {cluster}!\"\n",
        "\n",
        "# 5️⃣ Create Gradio Interface\n",
        "interface = gr.Interface(\n",
        "    fn=predict_cluster,\n",
        "    inputs=[\n",
        "        gr.Number(label=\"Annual Income ($)\"),\n",
        "        gr.Number(label=\"Spending Score (1-100)\")\n",
        "    ],\n",
        "    outputs=\"text\",\n",
        "    title=\"💰 Customer Segmentation (K-Means)\",\n",
        "    description=\"Enter your income and spending score to see which customer segment you belong to.\"\n",
        ")\n",
        "\n",
        "# 6️⃣ Launch Gradio App\n",
        "interface.launch()\n"
      ]
    }
  ]
}